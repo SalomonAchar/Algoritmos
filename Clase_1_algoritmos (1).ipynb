{
  "nbformat": 4,
  "nbformat_minor": 0,
  "metadata": {
    "colab": {
      "provenance": []
    },
    "kernelspec": {
      "name": "python3",
      "display_name": "Python 3"
    },
    "language_info": {
      "name": "python"
    }
  },
  "cells": [
    {
      "cell_type": "markdown",
      "source": [
        "### Números y Strings\n",
        "* Int, Float\n",
        "* Str"
      ],
      "metadata": {
        "id": "TtvPiX9uuA13"
      }
    },
    {
      "cell_type": "markdown",
      "source": [
        "### Algunos objetos en Python\n",
        "### Números y strings\n",
        "\n",
        "* int, float\n",
        "* str\n",
        "\n",
        "Nota: es posible escribir Latex\n",
        "La siguinete integral es de gran importancia\n",
        "$$\\int_{-\\infty}^{\\infty}e^{-\\frac{x^2}{2}}dx =\\sqrt{2\\pi}$$\n",
        "\n",
        "1. $+,-$\n",
        "2. $*, **$\n",
        "3. $/, //$\n",
        "4. $\\%$\n",
        "\n",
        "\n",
        "\n",
        "**Operacion básicas entre números **\n"
      ],
      "metadata": {
        "id": "mJrpZimarZiY"
      }
    },
    {
      "cell_type": "code",
      "source": [
        "5**5"
      ],
      "metadata": {
        "colab": {
          "base_uri": "https://localhost:8080/"
        },
        "id": "ygqQ7ZS1vdRK",
        "outputId": "931d929f-4fc2-4346-8aba-f74d2dca5066"
      },
      "execution_count": 5,
      "outputs": [
        {
          "output_type": "execute_result",
          "data": {
            "text/plain": [
              "3125"
            ]
          },
          "metadata": {},
          "execution_count": 5
        }
      ]
    },
    {
      "cell_type": "code",
      "source": [
        "5%2"
      ],
      "metadata": {
        "colab": {
          "base_uri": "https://localhost:8080/"
        },
        "id": "5IZVRP0KwVV8",
        "outputId": "d5d23598-ab5e-4bd9-f6ac-72a6620a6997"
      },
      "execution_count": 6,
      "outputs": [
        {
          "output_type": "execute_result",
          "data": {
            "text/plain": [
              "1"
            ]
          },
          "metadata": {},
          "execution_count": 6
        }
      ]
    },
    {
      "cell_type": "markdown",
      "source": [
        "### Python tiene funciones integradas\n",
        "\n",
        "1. print\n",
        "2. type\n"
      ],
      "metadata": {
        "id": "F5dw4AH1yGO0"
      }
    },
    {
      "cell_type": "code",
      "source": [
        "# vamos a crear dps variables int\n",
        "x= 5\n",
        "Y= 2"
      ],
      "metadata": {
        "id": "VCsTkrpIyfuo"
      },
      "execution_count": 7,
      "outputs": []
    },
    {
      "cell_type": "code",
      "source": [
        "print (\"Hola mundo!\")"
      ],
      "metadata": {
        "colab": {
          "base_uri": "https://localhost:8080/"
        },
        "id": "qAEPpAgazS9X",
        "outputId": "a6682fd4-077a-44b7-83ef-305fecc2b35c"
      },
      "execution_count": 8,
      "outputs": [
        {
          "output_type": "stream",
          "name": "stdout",
          "text": [
            "Hola mundo!\n"
          ]
        }
      ]
    },
    {
      "cell_type": "code",
      "source": [
        "print (x)"
      ],
      "metadata": {
        "colab": {
          "base_uri": "https://localhost:8080/"
        },
        "id": "rwdNvghSzl-c",
        "outputId": "40ba6029-5f55-47a4-c683-52f66a2da991"
      },
      "execution_count": 9,
      "outputs": [
        {
          "output_type": "stream",
          "name": "stdout",
          "text": [
            "5\n"
          ]
        }
      ]
    },
    {
      "cell_type": "code",
      "source": [
        "print (Y)"
      ],
      "metadata": {
        "colab": {
          "base_uri": "https://localhost:8080/"
        },
        "id": "ORZOGOduz-cF",
        "outputId": "2c3bcc1c-6a96-4c86-a8e1-e667370a345c"
      },
      "execution_count": 10,
      "outputs": [
        {
          "output_type": "stream",
          "name": "stdout",
          "text": [
            "2\n"
          ]
        }
      ]
    },
    {
      "cell_type": "code",
      "source": [
        "print(f\"El residuo de {x} entre {Y} es {x%Y}\")"
      ],
      "metadata": {
        "colab": {
          "base_uri": "https://localhost:8080/"
        },
        "id": "hx59kFQh0aeM",
        "outputId": "5fb24797-8b13-413b-d2f5-52eb3ead0aa4"
      },
      "execution_count": 11,
      "outputs": [
        {
          "output_type": "stream",
          "name": "stdout",
          "text": [
            "El residuo de 5 entre 2 es 1\n"
          ]
        }
      ]
    },
    {
      "cell_type": "markdown",
      "source": [
        "## Listas\n",
        "\n",
        "Una lista es un objeto de la forma:\n",
        "\n",
        "$$\\text{Lista} = [e_1, e_2, ...., e_n]$$\n",
        "\n",
        "Cada elemento puede ser, a su vez, un objeto."
      ],
      "metadata": {
        "id": "VyoKss3fXPy0"
      }
    },
    {
      "cell_type": "code",
      "source": [
        "# Vamos a crear una lista\n",
        "Lista = [7, 7.7, \"Salomon\", [1, 2, 3]]"
      ],
      "metadata": {
        "id": "keFQi3ZXXn_C"
      },
      "execution_count": 12,
      "outputs": []
    },
    {
      "cell_type": "code",
      "source": [
        "print (Lista)"
      ],
      "metadata": {
        "colab": {
          "base_uri": "https://localhost:8080/"
        },
        "id": "13uB3to4YC25",
        "outputId": "9c49f2e9-bbe5-489c-f08d-e7abc5f41243"
      },
      "execution_count": 13,
      "outputs": [
        {
          "output_type": "stream",
          "name": "stdout",
          "text": [
            "[7, 7.7, 'Salomon', [1, 2, 3]]\n"
          ]
        }
      ]
    },
    {
      "cell_type": "code",
      "source": [
        "type(Lista)"
      ],
      "metadata": {
        "colab": {
          "base_uri": "https://localhost:8080/"
        },
        "id": "BWYGehFiYTG0",
        "outputId": "13c0395d-1a9e-4d9e-f57b-842aa6386eee"
      },
      "execution_count": 14,
      "outputs": [
        {
          "output_type": "execute_result",
          "data": {
            "text/plain": [
              "list"
            ]
          },
          "metadata": {},
          "execution_count": 14
        }
      ]
    },
    {
      "cell_type": "markdown",
      "source": [
        "### Etiquetas en Python\n",
        "\n",
        "En Python existe una función que se llama `range(a,b)` en donde $a$ y $b$ son enteros mayores o iguales a 0. Aqui, $a<b$\n",
        "\n"
      ],
      "metadata": {
        "id": "lpxATF03ZYtj"
      }
    },
    {
      "cell_type": "code",
      "source": [
        "range(57)"
      ],
      "metadata": {
        "colab": {
          "base_uri": "https://localhost:8080/"
        },
        "id": "hXadzXlIZBri",
        "outputId": "00fbad74-7068-4d45-88d1-3f0b02df0b55"
      },
      "execution_count": 15,
      "outputs": [
        {
          "output_type": "execute_result",
          "data": {
            "text/plain": [
              "range(0, 57)"
            ]
          },
          "metadata": {},
          "execution_count": 15
        }
      ]
    },
    {
      "cell_type": "code",
      "source": [
        "type(range(57)) # Generador de índices (o etiquetas)"
      ],
      "metadata": {
        "colab": {
          "base_uri": "https://localhost:8080/"
        },
        "id": "fxc4i9ewagNL",
        "outputId": "ea6ee4f7-5477-4e11-babd-28500a851a48"
      },
      "execution_count": 16,
      "outputs": [
        {
          "output_type": "execute_result",
          "data": {
            "text/plain": [
              "range"
            ]
          },
          "metadata": {},
          "execution_count": 16
        }
      ]
    },
    {
      "cell_type": "code",
      "source": [
        "for i in range(57):\n",
        " print(i)"
      ],
      "metadata": {
        "colab": {
          "base_uri": "https://localhost:8080/"
        },
        "id": "lZ_8ddiTaqF6",
        "outputId": "b5beced5-4dad-43f8-d182-a755f3eba3dc"
      },
      "execution_count": 17,
      "outputs": [
        {
          "output_type": "stream",
          "name": "stdout",
          "text": [
            "0\n",
            "1\n",
            "2\n",
            "3\n",
            "4\n",
            "5\n",
            "6\n",
            "7\n",
            "8\n",
            "9\n",
            "10\n",
            "11\n",
            "12\n",
            "13\n",
            "14\n",
            "15\n",
            "16\n",
            "17\n",
            "18\n",
            "19\n",
            "20\n",
            "21\n",
            "22\n",
            "23\n",
            "24\n",
            "25\n",
            "26\n",
            "27\n",
            "28\n",
            "29\n",
            "30\n",
            "31\n",
            "32\n",
            "33\n",
            "34\n",
            "35\n",
            "36\n",
            "37\n",
            "38\n",
            "39\n",
            "40\n",
            "41\n",
            "42\n",
            "43\n",
            "44\n",
            "45\n",
            "46\n",
            "47\n",
            "48\n",
            "49\n",
            "50\n",
            "51\n",
            "52\n",
            "53\n",
            "54\n",
            "55\n",
            "56\n"
          ]
        }
      ]
    },
    {
      "cell_type": "code",
      "source": [
        "len(Lista) # La función len (variable) cuenta el numero de elementos que hay"
      ],
      "metadata": {
        "id": "4iz_gcqPgunm"
      },
      "execution_count": 37,
      "outputs": []
    },
    {
      "cell_type": "code",
      "source": [
        "Lista[3], type(Lista[3])"
      ],
      "metadata": {
        "id": "im4GXZWihmc1"
      },
      "execution_count": 38,
      "outputs": []
    },
    {
      "cell_type": "code",
      "source": [
        "Lista[0:2]"
      ],
      "metadata": {
        "colab": {
          "base_uri": "https://localhost:8080/"
        },
        "id": "ybskDVUAiuxP",
        "outputId": "87f0865d-fd86-4eeb-85f1-9af84b21ad35"
      },
      "execution_count": 20,
      "outputs": [
        {
          "output_type": "execute_result",
          "data": {
            "text/plain": [
              "[7, 7.7]"
            ]
          },
          "metadata": {},
          "execution_count": 20
        }
      ]
    },
    {
      "cell_type": "code",
      "source": [
        "Lista[3][0]"
      ],
      "metadata": {
        "colab": {
          "base_uri": "https://localhost:8080/"
        },
        "id": "FWtHzLRAi5fX",
        "outputId": "78752445-5452-429a-dd6e-393a6512b00c"
      },
      "execution_count": 21,
      "outputs": [
        {
          "output_type": "execute_result",
          "data": {
            "text/plain": [
              "1"
            ]
          },
          "metadata": {},
          "execution_count": 21
        }
      ]
    },
    {
      "cell_type": "markdown",
      "source": [
        "### Algunos atributos de las listas\n",
        "\n"
      ],
      "metadata": {
        "id": "cL13sH9XtGCC"
      }
    },
    {
      "cell_type": "code",
      "source": [
        "Lista. append(\"Estela\")"
      ],
      "metadata": {
        "id": "zViLYYhJtSBZ"
      },
      "execution_count": 22,
      "outputs": []
    },
    {
      "cell_type": "code",
      "source": [
        "Lista.remove(\"Estela\")"
      ],
      "metadata": {
        "id": "kWg35dHptwNW"
      },
      "execution_count": 25,
      "outputs": []
    },
    {
      "cell_type": "code",
      "source": [
        "Lista"
      ],
      "metadata": {
        "colab": {
          "base_uri": "https://localhost:8080/"
        },
        "id": "pqODEi1EuHNa",
        "outputId": "af997e95-7cfb-4731-d6f3-d8a5e72d654f"
      },
      "execution_count": 26,
      "outputs": [
        {
          "output_type": "execute_result",
          "data": {
            "text/plain": [
              "[7, 7.7, 'Salomon', [1, 2, 3]]"
            ]
          },
          "metadata": {},
          "execution_count": 26
        }
      ]
    },
    {
      "cell_type": "markdown",
      "source": [
        "$a \\in A$\n",
        "\n"
      ],
      "metadata": {
        "id": "CvUCUlKkweuB"
      }
    },
    {
      "cell_type": "code",
      "source": [
        "L=[x for x in range(21)]"
      ],
      "metadata": {
        "id": "5RzjEHBxwtw8"
      },
      "execution_count": 43,
      "outputs": []
    },
    {
      "cell_type": "code",
      "source": [
        "L"
      ],
      "metadata": {
        "colab": {
          "base_uri": "https://localhost:8080/"
        },
        "id": "gaCtOav_xCrr",
        "outputId": "c13890a6-0905-4ce5-d5ce-07380122b6af"
      },
      "execution_count": 28,
      "outputs": [
        {
          "output_type": "execute_result",
          "data": {
            "text/plain": [
              "[0, 1, 2, 3, 4, 5, 6, 7, 8, 9, 10, 11, 12, 13, 14, 15, 16, 17, 18, 19, 20]"
            ]
          },
          "metadata": {},
          "execution_count": 28
        }
      ]
    },
    {
      "cell_type": "code",
      "source": [
        "# Multiplos de 3\n",
        "M=[x for x in range(21) if x%3==0]"
      ],
      "metadata": {
        "id": "sY64-EJVxEhs"
      },
      "execution_count": 41,
      "outputs": []
    },
    {
      "cell_type": "code",
      "source": [
        "M"
      ],
      "metadata": {
        "colab": {
          "base_uri": "https://localhost:8080/"
        },
        "id": "Jsgub4tWyDnE",
        "outputId": "a3e5e31c-ec77-44eb-eff6-954f95fd0cd3"
      },
      "execution_count": 30,
      "outputs": [
        {
          "output_type": "execute_result",
          "data": {
            "text/plain": [
              "[0, 3, 6, 9, 12, 15, 18]"
            ]
          },
          "metadata": {},
          "execution_count": 30
        }
      ]
    },
    {
      "cell_type": "code",
      "source": [
        "L[0:6]#"
      ],
      "metadata": {
        "colab": {
          "base_uri": "https://localhost:8080/"
        },
        "id": "oFp450BWyEcK",
        "outputId": "894d2a09-f7ba-4ef9-c4e6-9dd3bb4c9685"
      },
      "execution_count": 31,
      "outputs": [
        {
          "output_type": "execute_result",
          "data": {
            "text/plain": [
              "[0, 1, 2, 3, 4, 5]"
            ]
          },
          "metadata": {},
          "execution_count": 31
        }
      ]
    },
    {
      "cell_type": "code",
      "source": [
        "L[0::20]"
      ],
      "metadata": {
        "colab": {
          "base_uri": "https://localhost:8080/"
        },
        "id": "fC1QX1toyxsU",
        "outputId": "32ee6b75-e8df-407e-846b-8e853032ec70"
      },
      "execution_count": 36,
      "outputs": [
        {
          "output_type": "execute_result",
          "data": {
            "text/plain": [
              "[0, 20]"
            ]
          },
          "metadata": {},
          "execution_count": 36
        }
      ]
    },
    {
      "cell_type": "code",
      "source": [],
      "metadata": {
        "id": "q57Z4gC3zA7t"
      },
      "execution_count": null,
      "outputs": []
    }
  ]
}