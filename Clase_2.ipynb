{
  "nbformat": 4,
  "nbformat_minor": 0,
  "metadata": {
    "colab": {
      "provenance": []
    },
    "kernelspec": {
      "name": "python3",
      "display_name": "Python 3"
    },
    "language_info": {
      "name": "python"
    }
  },
  "cells": [
    {
      "cell_type": "code",
      "execution_count": null,
      "metadata": {
        "id": "OmhFZKdFx-Vj"
      },
      "outputs": [],
      "source": [
        "map"
      ]
    },
    {
      "cell_type": "markdown",
      "source": [
        "# Lss funciones lambda y map\n",
        "\n",
        " DocumentacionÑ\n",
        "  \n",
        "\n",
        "*   [lambda](https://docs.python.org/3/library/functions.html)\n",
        "*   [map](https://docs.python.org/3/library/functions.html)\n",
        "\n",
        "\n"
      ],
      "metadata": {
        "id": "_aBMz0ipzHZX"
      }
    },
    {
      "cell_type": "code",
      "source": [
        "def cuadrado(num):\n",
        "  return num**2"
      ],
      "metadata": {
        "id": "wvBn3MhYzk2x"
      },
      "execution_count": 1,
      "outputs": []
    },
    {
      "cell_type": "code",
      "source": [
        "cuadrado(4)"
      ],
      "metadata": {
        "colab": {
          "base_uri": "https://localhost:8080/"
        },
        "id": "h63kTwK4z4gx",
        "outputId": "cb229376-ac3a-450d-c737-914370c62fad"
      },
      "execution_count": 2,
      "outputs": [
        {
          "output_type": "execute_result",
          "data": {
            "text/plain": [
              "16"
            ]
          },
          "metadata": {},
          "execution_count": 2
        }
      ]
    },
    {
      "cell_type": "code",
      "source": [
        "I=[1,2,3,4]\n",
        "\n",
        "z = lambda x: x**4\n",
        "res = list(map(z, I))\n",
        "print(res)"
      ],
      "metadata": {
        "colab": {
          "base_uri": "https://localhost:8080/"
        },
        "id": "SjbYaoQl0B1b",
        "outputId": "7cffb8ca-9a5d-49c9-916d-da7ad85bb515"
      },
      "execution_count": 19,
      "outputs": [
        {
          "output_type": "stream",
          "name": "stdout",
          "text": [
            "[1, 16, 81, 256]\n"
          ]
        }
      ]
    },
    {
      "cell_type": "code",
      "source": [
        "res = list(map(cuadrado, I))\n",
        "print(res)"
      ],
      "metadata": {
        "colab": {
          "base_uri": "https://localhost:8080/"
        },
        "id": "1bo3_bft0L8m",
        "outputId": "34eaff54-842f-4518-9afb-396ed8bee04e"
      },
      "execution_count": 17,
      "outputs": [
        {
          "output_type": "stream",
          "name": "stdout",
          "text": [
            "[1, 4, 9, 16]\n"
          ]
        }
      ]
    },
    {
      "cell_type": "code",
      "source": [
        "list(map(lambda x: x**2, I))"
      ],
      "metadata": {
        "colab": {
          "base_uri": "https://localhost:8080/"
        },
        "id": "t-W-dHbn1VjH",
        "outputId": "a158fce1-6bfd-4be3-d79d-7fb725a216a1"
      },
      "execution_count": 20,
      "outputs": [
        {
          "output_type": "execute_result",
          "data": {
            "text/plain": [
              "[1, 4, 9, 16]"
            ]
          },
          "metadata": {},
          "execution_count": 20
        }
      ]
    },
    {
      "cell_type": "code",
      "source": [
        "# prompt: Dame 5 ejemplos de map\n",
        "\n",
        "# Ejemplo 1: Duplicar cada elemento de una lista\n",
        "numeros = [1, 2, 3, 4, 5]\n",
        "duplicados = list(map(lambda x: x * 2, numeros))\n",
        "print(f\"Ejemplo 1: {duplicados}\")  # Output: [2, 4, 6, 8, 10]\n",
        "\n",
        "# Ejemplo 2: Convertir cadenas a mayúsculas\n",
        "palabras = [\"hola\", \"mundo\", \"python\"]\n",
        "mayusculas = list(map(str.upper, palabras))\n",
        "print(f\"Ejemplo 2: {mayusculas}\")  # Output: ['HOLA', 'MUNDO', 'PYTHON']\n",
        "\n",
        "# Ejemplo 3: Calcular la longitud de cada cadena\n",
        "frases = [\"Esta es una frase\", \"otra frase\", \"y otra más\"]\n",
        "longitudes = list(map(len, frases))\n",
        "print(f\"Ejemplo 3: {longitudes}\")  # Output: [16, 10, 10]\n",
        "\n",
        "\n",
        "# Ejemplo 4: Convertir números a cadenas\n",
        "enteros = [10, 20, 30, 40, 50]\n",
        "cadenas = list(map(str, enteros))\n",
        "print(f\"Ejemplo 4: {cadenas}\")  # Output: ['10', '20', '30', '40', '50']\n",
        "\n",
        "# Ejemplo 5: Sumar dos listas elemento a elemento\n",
        "lista1 = [1, 2, 3]\n",
        "lista2 = [4, 5, 6]\n",
        "suma_listas = list(map(lambda x, y: x + y, lista1, lista2))\n",
        "print(f\"Ejemplo 5: {suma_listas}\")  # Output: [5, 7, 9]\n"
      ],
      "metadata": {
        "colab": {
          "base_uri": "https://localhost:8080/"
        },
        "id": "LvNyZkUH19TN",
        "outputId": "1086a040-c491-47d7-f593-db237ff8c8b4"
      },
      "execution_count": 21,
      "outputs": [
        {
          "output_type": "stream",
          "name": "stdout",
          "text": [
            "Ejemplo 1: [2, 4, 6, 8, 10]\n",
            "Ejemplo 2: ['HOLA', 'MUNDO', 'PYTHON']\n",
            "Ejemplo 3: [17, 10, 10]\n",
            "Ejemplo 4: ['10', '20', '30', '40', '50']\n",
            "Ejemplo 5: [5, 7, 9]\n"
          ]
        }
      ]
    }
  ]
}